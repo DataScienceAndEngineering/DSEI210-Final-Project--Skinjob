{
  "nbformat": 4,
  "nbformat_minor": 0,
  "metadata": {
    "colab": {
      "name": "DNN_and_CNN.ipynb",
      "provenance": [],
      "collapsed_sections": []
    },
    "kernelspec": {
      "name": "python3",
      "display_name": "Python 3"
    },
    "language_info": {
      "name": "python"
    }
  },
  "cells": [
    {
      "cell_type": "code",
      "execution_count": 1,
      "metadata": {
        "id": "yw-BBLyMKR0D"
      },
      "outputs": [],
      "source": [
        "import numpy as np \n",
        "import pandas as pd\n",
        "import tensorflow as tf\n",
        "from tensorflow import keras\n",
        "import matplotlib.pyplot as plt\n",
        "from sklearn.model_selection import train_test_split\n",
        "from matplotlib.pyplot import imshow"
      ]
    },
    {
      "cell_type": "code",
      "source": [
        "X = np.load('../content/images28_28.npy')\n",
        "y = np.load('../content/labels28_28.npy')"
      ],
      "metadata": {
        "id": "gURNU3UfKXS5"
      },
      "execution_count": 2,
      "outputs": []
    },
    {
      "cell_type": "code",
      "source": [
        "tain_size=0.7\n",
        "valid_size = 0.1\n",
        "test_size = 0.2\n",
        "valid_test_split = valid_size / test_size\n",
        "\n",
        "X_train, X_test_val, y_train, y_test_val = train_test_split(X, y, test_size=1-tain_size, shuffle=True, random_state=42)\n",
        "X_val, X_test, y_val, y_test = train_test_split(X_test_val, y_test_val, test_size=valid_test_split, shuffle=True, random_state=42)\n",
        "\n",
        "print(X_train.shape, y_train.shape)\n",
        "print(X_test.shape, y_test.shape)\n",
        "print(X_val.shape, y_val.shape)"
      ],
      "metadata": {
        "colab": {
          "base_uri": "https://localhost:8080/"
        },
        "id": "y5y15u1CKYy5",
        "outputId": "3c589587-0761-446d-a21a-c2022c667ad6"
      },
      "execution_count": 4,
      "outputs": [
        {
          "output_type": "stream",
          "name": "stdout",
          "text": [
            "(7010, 28, 28, 3) (7010, 7)\n",
            "(1503, 28, 28, 3) (1503, 7)\n",
            "(1502, 28, 28, 3) (1502, 7)\n"
          ]
        }
      ]
    },
    {
      "cell_type": "code",
      "source": [
        "dnn_model = tf.keras.Sequential([                                                               \n",
        "   keras.layers.Flatten(input_shape=(28, 28, 3)),\n",
        "   keras.layers.Dense(128, activation = 'relu'),\n",
        "   keras.layers.Dense(7, activation='softmax')                                 \n",
        "])\n",
        "dnn_model.compile(optimizer='adam', loss='binary_crossentropy', metrics=['accuracy'])"
      ],
      "metadata": {
        "id": "F6mIl6HVKhDt"
      },
      "execution_count": 7,
      "outputs": []
    },
    {
      "cell_type": "code",
      "source": [
        "dnn_model.fit(X_train, y_train, epochs=10, validation_data=(X_val, y_val))"
      ],
      "metadata": {
        "colab": {
          "base_uri": "https://localhost:8080/"
        },
        "id": "sD6hmFRgKz3Q",
        "outputId": "1f1f5e75-c556-4a28-e6d1-1202cda22126"
      },
      "execution_count": 9,
      "outputs": [
        {
          "output_type": "stream",
          "name": "stdout",
          "text": [
            "Epoch 1/10\n",
            "220/220 [==============================] - 1s 6ms/step - loss: 0.2641 - accuracy: 0.6700 - val_loss: 0.2690 - val_accuracy: 0.6591\n",
            "Epoch 2/10\n",
            "220/220 [==============================] - 1s 5ms/step - loss: 0.2629 - accuracy: 0.6700 - val_loss: 0.2682 - val_accuracy: 0.6591\n",
            "Epoch 3/10\n",
            "220/220 [==============================] - 1s 5ms/step - loss: 0.2622 - accuracy: 0.6700 - val_loss: 0.2676 - val_accuracy: 0.6591\n",
            "Epoch 4/10\n",
            "220/220 [==============================] - 1s 5ms/step - loss: 0.2616 - accuracy: 0.6700 - val_loss: 0.2671 - val_accuracy: 0.6591\n",
            "Epoch 5/10\n",
            "220/220 [==============================] - 1s 5ms/step - loss: 0.2611 - accuracy: 0.6700 - val_loss: 0.2667 - val_accuracy: 0.6591\n",
            "Epoch 6/10\n",
            "220/220 [==============================] - 1s 5ms/step - loss: 0.2607 - accuracy: 0.6700 - val_loss: 0.2664 - val_accuracy: 0.6591\n",
            "Epoch 7/10\n",
            "220/220 [==============================] - 1s 6ms/step - loss: 0.2603 - accuracy: 0.6700 - val_loss: 0.2661 - val_accuracy: 0.6591\n",
            "Epoch 8/10\n",
            "220/220 [==============================] - 1s 5ms/step - loss: 0.2601 - accuracy: 0.6700 - val_loss: 0.2659 - val_accuracy: 0.6591\n",
            "Epoch 9/10\n",
            "220/220 [==============================] - 1s 5ms/step - loss: 0.2598 - accuracy: 0.6700 - val_loss: 0.2658 - val_accuracy: 0.6591\n",
            "Epoch 10/10\n",
            "220/220 [==============================] - 1s 6ms/step - loss: 0.2597 - accuracy: 0.6700 - val_loss: 0.2656 - val_accuracy: 0.6591\n"
          ]
        },
        {
          "output_type": "execute_result",
          "data": {
            "text/plain": [
              "<keras.callbacks.History at 0x7fa790eb0110>"
            ]
          },
          "metadata": {},
          "execution_count": 9
        }
      ]
    },
    {
      "cell_type": "code",
      "source": [
        "cnn_model = tf.keras.Sequential([                                                               \n",
        "   keras.layers.Conv2D(28, (3, 3), activation = 'relu', input_shape=(28, 28, 3)),\n",
        "   keras.layers.MaxPooling2D(2, 2),\n",
        "   keras.layers.Conv2D(56, (3, 3), activation = 'relu'),\n",
        "   keras.layers.MaxPooling2D(2, 2),\n",
        "   keras.layers.Conv2D(56, (3, 3), activation = 'relu'),\n",
        "   keras.layers.Flatten(),\n",
        "   keras.layers.Dense(56, activation='relu'),\n",
        "   keras.layers.Dense(7, activation='softmax')                                 \n",
        "])\n",
        "cnn_model.compile(optimizer='adam', loss='binary_crossentropy', metrics=['accuracy'])"
      ],
      "metadata": {
        "id": "x_jnSb9dlwZi"
      },
      "execution_count": 13,
      "outputs": []
    },
    {
      "cell_type": "code",
      "source": [
        "cnn_model.fit(X_train, y_train, epochs=20, validation_data=(X_val, y_val))"
      ],
      "metadata": {
        "colab": {
          "base_uri": "https://localhost:8080/"
        },
        "id": "0fM2Iic4lw0M",
        "outputId": "f49b16ff-c08f-4516-d74e-c8de77202129"
      },
      "execution_count": 14,
      "outputs": [
        {
          "output_type": "stream",
          "name": "stdout",
          "text": [
            "Epoch 1/20\n",
            "220/220 [==============================] - 8s 34ms/step - loss: 0.4549 - accuracy: 0.6456 - val_loss: 0.2314 - val_accuracy: 0.6625\n",
            "Epoch 2/20\n",
            "220/220 [==============================] - 7s 34ms/step - loss: 0.2217 - accuracy: 0.6793 - val_loss: 0.2223 - val_accuracy: 0.6738\n",
            "Epoch 3/20\n",
            "220/220 [==============================] - 7s 34ms/step - loss: 0.2120 - accuracy: 0.6799 - val_loss: 0.2159 - val_accuracy: 0.6858\n",
            "Epoch 4/20\n",
            "220/220 [==============================] - 7s 34ms/step - loss: 0.2052 - accuracy: 0.6929 - val_loss: 0.2235 - val_accuracy: 0.6744\n",
            "Epoch 5/20\n",
            "220/220 [==============================] - 7s 34ms/step - loss: 0.2051 - accuracy: 0.6934 - val_loss: 0.2099 - val_accuracy: 0.6904\n",
            "Epoch 6/20\n",
            "220/220 [==============================] - 7s 34ms/step - loss: 0.1968 - accuracy: 0.7040 - val_loss: 0.2299 - val_accuracy: 0.6744\n",
            "Epoch 7/20\n",
            "220/220 [==============================] - 7s 33ms/step - loss: 0.1951 - accuracy: 0.7021 - val_loss: 0.2063 - val_accuracy: 0.6931\n",
            "Epoch 8/20\n",
            "220/220 [==============================] - 7s 33ms/step - loss: 0.1851 - accuracy: 0.7153 - val_loss: 0.2131 - val_accuracy: 0.6897\n",
            "Epoch 9/20\n",
            "220/220 [==============================] - 7s 33ms/step - loss: 0.1821 - accuracy: 0.7200 - val_loss: 0.2148 - val_accuracy: 0.6957\n",
            "Epoch 10/20\n",
            "220/220 [==============================] - 7s 34ms/step - loss: 0.1784 - accuracy: 0.7231 - val_loss: 0.2025 - val_accuracy: 0.6957\n",
            "Epoch 11/20\n",
            "220/220 [==============================] - 8s 34ms/step - loss: 0.1735 - accuracy: 0.7321 - val_loss: 0.2192 - val_accuracy: 0.6731\n",
            "Epoch 12/20\n",
            "220/220 [==============================] - 7s 34ms/step - loss: 0.1755 - accuracy: 0.7285 - val_loss: 0.2003 - val_accuracy: 0.7064\n",
            "Epoch 13/20\n",
            "220/220 [==============================] - 7s 33ms/step - loss: 0.1679 - accuracy: 0.7415 - val_loss: 0.1942 - val_accuracy: 0.7077\n",
            "Epoch 14/20\n",
            "220/220 [==============================] - 7s 33ms/step - loss: 0.1718 - accuracy: 0.7377 - val_loss: 0.2093 - val_accuracy: 0.6838\n",
            "Epoch 15/20\n",
            "220/220 [==============================] - 7s 33ms/step - loss: 0.1687 - accuracy: 0.7478 - val_loss: 0.2027 - val_accuracy: 0.7011\n",
            "Epoch 16/20\n",
            "220/220 [==============================] - 7s 33ms/step - loss: 0.1589 - accuracy: 0.7619 - val_loss: 0.2014 - val_accuracy: 0.7011\n",
            "Epoch 17/20\n",
            "220/220 [==============================] - 7s 33ms/step - loss: 0.1565 - accuracy: 0.7622 - val_loss: 0.2002 - val_accuracy: 0.6991\n",
            "Epoch 18/20\n",
            "220/220 [==============================] - 7s 33ms/step - loss: 0.1527 - accuracy: 0.7603 - val_loss: 0.2207 - val_accuracy: 0.6971\n",
            "Epoch 19/20\n",
            "220/220 [==============================] - 7s 33ms/step - loss: 0.1513 - accuracy: 0.7666 - val_loss: 0.2519 - val_accuracy: 0.6864\n",
            "Epoch 20/20\n",
            "220/220 [==============================] - 7s 33ms/step - loss: 0.1472 - accuracy: 0.7770 - val_loss: 0.2146 - val_accuracy: 0.7077\n"
          ]
        },
        {
          "output_type": "execute_result",
          "data": {
            "text/plain": [
              "<keras.callbacks.History at 0x7fa790cdbe90>"
            ]
          },
          "metadata": {},
          "execution_count": 14
        }
      ]
    }
  ]
}