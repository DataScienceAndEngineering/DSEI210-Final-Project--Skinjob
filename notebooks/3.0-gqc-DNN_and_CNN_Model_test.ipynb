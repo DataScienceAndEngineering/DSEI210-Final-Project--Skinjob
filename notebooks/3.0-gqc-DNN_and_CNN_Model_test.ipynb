{
  "nbformat": 4,
  "nbformat_minor": 0,
  "metadata": {
    "colab": {
      "name": "DNN_and_CNN.ipynb",
      "provenance": [],
      "collapsed_sections": []
    },
    "kernelspec": {
      "name": "python3",
      "display_name": "Python 3"
    },
    "language_info": {
      "name": "python"
    },
    "accelerator": "GPU"
  },
  "cells": [
    {
      "cell_type": "code",
      "execution_count": 14,
      "metadata": {
        "id": "yw-BBLyMKR0D"
      },
      "outputs": [],
      "source": [
        "import numpy as np \n",
        "import pandas as pd\n",
        "import tensorflow as tf\n",
        "from tensorflow import keras\n",
        "import matplotlib.pyplot as plt\n",
        "from matplotlib.pyplot import imshow"
      ]
    },
    {
      "cell_type": "code",
      "source": [
        "df28 = pd.read_csv('../content/hmnist_28_28_RGB.csv')\n",
        "print(df28['label'].value_counts())"
      ],
      "metadata": {
        "colab": {
          "base_uri": "https://localhost:8080/"
        },
        "id": "gURNU3UfKXS5",
        "outputId": "83240fcc-a6e3-43eb-e9e3-0d6d96017d72"
      },
      "execution_count": 4,
      "outputs": [
        {
          "output_type": "stream",
          "name": "stdout",
          "text": [
            "4    6705\n",
            "6    1113\n",
            "2    1099\n",
            "1     514\n",
            "0     327\n",
            "5     142\n",
            "3     115\n",
            "Name: label, dtype: int64\n"
          ]
        }
      ]
    },
    {
      "cell_type": "code",
      "source": [
        "from sklearn.model_selection import train_test_split\n",
        "\n",
        "tain_size=0.7\n",
        "valid_size = 0.1\n",
        "test_size = 0.2\n",
        "valid_test_split = valid_size / test_size\n",
        "\n",
        "train_df, valid_test_df = train_test_split(df28, train_size=tain_size, shuffle=True, random_state=42)\n",
        "valid_df, test_df = train_test_split(valid_test_df, train_size=valid_test_split, shuffle=True, random_state=42)\n",
        "\n",
        "print(' train_df length: ', len(train_df), '  test_df length: ', len(test_df), '  valid_df length: ', len(valid_df))\n",
        "print (train_df['label'].value_counts())"
      ],
      "metadata": {
        "colab": {
          "base_uri": "https://localhost:8080/"
        },
        "id": "y5y15u1CKYy5",
        "outputId": "3e99906b-039e-41c4-ecf4-631c00b33d75"
      },
      "execution_count": 5,
      "outputs": [
        {
          "output_type": "stream",
          "name": "stdout",
          "text": [
            " train_df length:  7010   test_df length:  1503   valid_df length:  1502\n",
            "4    4708\n",
            "6     766\n",
            "2     749\n",
            "1     371\n",
            "0     231\n",
            "5     109\n",
            "3      76\n",
            "Name: label, dtype: int64\n"
          ]
        }
      ]
    },
    {
      "cell_type": "code",
      "source": [
        "train_data = train_df.iloc[:, :-1]\n",
        "train_label = pd.get_dummies(train_df['label'])\n",
        "validation_data = valid_df.iloc[:, :-1]\n",
        "validation_label = pd.get_dummies(valid_df['label'])"
      ],
      "metadata": {
        "id": "coG598XoKcxj"
      },
      "execution_count": 6,
      "outputs": []
    },
    {
      "cell_type": "code",
      "source": [
        "dnn_model = tf.keras.Sequential([                                                               \n",
        "   keras.layers.Dense(128, activation = 'relu'),\n",
        "   keras.layers.Dense(7, activation='softmax')                                 \n",
        "])\n",
        "dnn_model.compile(optimizer='adam', loss='binary_crossentropy', metrics=['accuracy'])"
      ],
      "metadata": {
        "id": "F6mIl6HVKhDt"
      },
      "execution_count": 15,
      "outputs": []
    },
    {
      "cell_type": "code",
      "source": [
        "dnn_model.fit(train_data, train_label, epochs=40, validation_data=(validation_data, validation_label))"
      ],
      "metadata": {
        "colab": {
          "base_uri": "https://localhost:8080/"
        },
        "id": "sD6hmFRgKz3Q",
        "outputId": "6d65cba9-af3d-4921-9ccb-af8df87ca64a"
      },
      "execution_count": 16,
      "outputs": [
        {
          "output_type": "stream",
          "name": "stdout",
          "text": [
            "Epoch 1/40\n",
            "220/220 [==============================] - 2s 6ms/step - loss: 13.5676 - accuracy: 0.5770 - val_loss: 3.9066 - val_accuracy: 0.5506\n",
            "Epoch 2/40\n",
            "220/220 [==============================] - 1s 6ms/step - loss: 4.6549 - accuracy: 0.5820 - val_loss: 4.6576 - val_accuracy: 0.3302\n",
            "Epoch 3/40\n",
            "220/220 [==============================] - 1s 6ms/step - loss: 2.8725 - accuracy: 0.5612 - val_loss: 1.8111 - val_accuracy: 0.6265\n",
            "Epoch 4/40\n",
            "220/220 [==============================] - 1s 5ms/step - loss: 1.3838 - accuracy: 0.5989 - val_loss: 1.6617 - val_accuracy: 0.2284\n",
            "Epoch 5/40\n",
            "220/220 [==============================] - 1s 5ms/step - loss: 0.9541 - accuracy: 0.6031 - val_loss: 0.4857 - val_accuracy: 0.6731\n",
            "Epoch 6/40\n",
            "220/220 [==============================] - 1s 5ms/step - loss: 0.9176 - accuracy: 0.5874 - val_loss: 1.4815 - val_accuracy: 0.4561\n",
            "Epoch 7/40\n",
            "220/220 [==============================] - 1s 6ms/step - loss: 0.8246 - accuracy: 0.5991 - val_loss: 1.0462 - val_accuracy: 0.6691\n",
            "Epoch 8/40\n",
            "220/220 [==============================] - 1s 5ms/step - loss: 0.5816 - accuracy: 0.6101 - val_loss: 1.4846 - val_accuracy: 0.1931\n",
            "Epoch 9/40\n",
            "220/220 [==============================] - 1s 5ms/step - loss: 0.5942 - accuracy: 0.6163 - val_loss: 0.3361 - val_accuracy: 0.6578\n",
            "Epoch 10/40\n",
            "220/220 [==============================] - 1s 5ms/step - loss: 0.4059 - accuracy: 0.6337 - val_loss: 1.1100 - val_accuracy: 0.1411\n",
            "Epoch 11/40\n",
            "220/220 [==============================] - 1s 6ms/step - loss: 0.5033 - accuracy: 0.6188 - val_loss: 0.7924 - val_accuracy: 0.6178\n",
            "Epoch 12/40\n",
            "220/220 [==============================] - 1s 6ms/step - loss: 0.4457 - accuracy: 0.6285 - val_loss: 0.4159 - val_accuracy: 0.5846\n",
            "Epoch 13/40\n",
            "220/220 [==============================] - 1s 5ms/step - loss: 0.3829 - accuracy: 0.6285 - val_loss: 0.3479 - val_accuracy: 0.6704\n",
            "Epoch 14/40\n",
            "220/220 [==============================] - 1s 5ms/step - loss: 0.3411 - accuracy: 0.6377 - val_loss: 0.5045 - val_accuracy: 0.6292\n",
            "Epoch 15/40\n",
            "220/220 [==============================] - 1s 5ms/step - loss: 0.2765 - accuracy: 0.6552 - val_loss: 0.3291 - val_accuracy: 0.6312\n",
            "Epoch 16/40\n",
            "220/220 [==============================] - 1s 5ms/step - loss: 0.2744 - accuracy: 0.6551 - val_loss: 0.3146 - val_accuracy: 0.6684\n",
            "Epoch 17/40\n",
            "220/220 [==============================] - 1s 5ms/step - loss: 0.2580 - accuracy: 0.6608 - val_loss: 0.4305 - val_accuracy: 0.5846\n",
            "Epoch 18/40\n",
            "220/220 [==============================] - 1s 5ms/step - loss: 0.2460 - accuracy: 0.6641 - val_loss: 0.2775 - val_accuracy: 0.6691\n",
            "Epoch 19/40\n",
            "220/220 [==============================] - 1s 5ms/step - loss: 0.2363 - accuracy: 0.6730 - val_loss: 0.2515 - val_accuracy: 0.6744\n",
            "Epoch 20/40\n",
            "220/220 [==============================] - 1s 5ms/step - loss: 0.2306 - accuracy: 0.6749 - val_loss: 0.2279 - val_accuracy: 0.6724\n",
            "Epoch 21/40\n",
            "220/220 [==============================] - 1s 5ms/step - loss: 0.2253 - accuracy: 0.6725 - val_loss: 0.2208 - val_accuracy: 0.6704\n",
            "Epoch 22/40\n",
            "220/220 [==============================] - 1s 5ms/step - loss: 0.2266 - accuracy: 0.6719 - val_loss: 0.2433 - val_accuracy: 0.6698\n",
            "Epoch 23/40\n",
            "220/220 [==============================] - 1s 5ms/step - loss: 0.2229 - accuracy: 0.6766 - val_loss: 0.2275 - val_accuracy: 0.6698\n",
            "Epoch 24/40\n",
            "220/220 [==============================] - 1s 5ms/step - loss: 0.2197 - accuracy: 0.6696 - val_loss: 0.2210 - val_accuracy: 0.6704\n",
            "Epoch 25/40\n",
            "220/220 [==============================] - 1s 5ms/step - loss: 0.2157 - accuracy: 0.6718 - val_loss: 0.2120 - val_accuracy: 0.6731\n",
            "Epoch 26/40\n",
            "220/220 [==============================] - 1s 6ms/step - loss: 0.2151 - accuracy: 0.6739 - val_loss: 0.2192 - val_accuracy: 0.6877\n",
            "Epoch 27/40\n",
            "220/220 [==============================] - 1s 5ms/step - loss: 0.2211 - accuracy: 0.6665 - val_loss: 0.2278 - val_accuracy: 0.6704\n",
            "Epoch 28/40\n",
            "220/220 [==============================] - 1s 5ms/step - loss: 0.2205 - accuracy: 0.6709 - val_loss: 0.2287 - val_accuracy: 0.6704\n",
            "Epoch 29/40\n",
            "220/220 [==============================] - 1s 6ms/step - loss: 0.2208 - accuracy: 0.6710 - val_loss: 0.2206 - val_accuracy: 0.6704\n",
            "Epoch 30/40\n",
            "220/220 [==============================] - 1s 5ms/step - loss: 0.2171 - accuracy: 0.6715 - val_loss: 0.2151 - val_accuracy: 0.6704\n",
            "Epoch 31/40\n",
            "220/220 [==============================] - 1s 5ms/step - loss: 0.2204 - accuracy: 0.6712 - val_loss: 0.2171 - val_accuracy: 0.6704\n",
            "Epoch 32/40\n",
            "220/220 [==============================] - 1s 5ms/step - loss: 0.2214 - accuracy: 0.6713 - val_loss: 0.2090 - val_accuracy: 0.6704\n",
            "Epoch 33/40\n",
            "220/220 [==============================] - 1s 5ms/step - loss: 0.2150 - accuracy: 0.6736 - val_loss: 0.2258 - val_accuracy: 0.6618\n",
            "Epoch 34/40\n",
            "220/220 [==============================] - 1s 5ms/step - loss: 0.2187 - accuracy: 0.6703 - val_loss: 0.2130 - val_accuracy: 0.6698\n",
            "Epoch 35/40\n",
            "220/220 [==============================] - 1s 6ms/step - loss: 0.2165 - accuracy: 0.6713 - val_loss: 0.2125 - val_accuracy: 0.6904\n",
            "Epoch 36/40\n",
            "220/220 [==============================] - 1s 6ms/step - loss: 0.2223 - accuracy: 0.6702 - val_loss: 0.2172 - val_accuracy: 0.6724\n",
            "Epoch 37/40\n",
            "220/220 [==============================] - 1s 5ms/step - loss: 0.2176 - accuracy: 0.6725 - val_loss: 0.2314 - val_accuracy: 0.6704\n",
            "Epoch 38/40\n",
            "220/220 [==============================] - 1s 6ms/step - loss: 0.2198 - accuracy: 0.6665 - val_loss: 0.2242 - val_accuracy: 0.6751\n",
            "Epoch 39/40\n",
            "220/220 [==============================] - 1s 5ms/step - loss: 0.2284 - accuracy: 0.6715 - val_loss: 0.2257 - val_accuracy: 0.6751\n",
            "Epoch 40/40\n",
            "220/220 [==============================] - 1s 5ms/step - loss: 0.2246 - accuracy: 0.6722 - val_loss: 0.2255 - val_accuracy: 0.6704\n"
          ]
        },
        {
          "output_type": "execute_result",
          "data": {
            "text/plain": [
              "<keras.callbacks.History at 0x7fb8d02fcf50>"
            ]
          },
          "metadata": {},
          "execution_count": 16
        }
      ]
    },
    {
      "cell_type": "code",
      "source": [
        "cnn_model = tf.keras.Sequential([                                                               \n",
        "   keras.layers.Conv2D(28, (3, 3), activation = 'relu', input_shape=(0, 2352)),\n",
        "   keras.layers.MaxPooling2D(2, 2),\n",
        "   keras.layers.Conv2D(56, (3, 3), activation = 'relu'),\n",
        "   keras.layers.MaxPooling2D(2, 2),\n",
        "   keras.layers.Conv2D(56, (3, 3), activation = 'relu'),\n",
        "   keras.layers.Flatten(),\n",
        "   keras.layers.Dense(56, activation='relu'),\n",
        "   keras.layers.Dense(7, activation='softmax')                                 \n",
        "])\n",
        "cnn_model.compile(optimizer='adam', loss='binary_crossentropy', metrics=['accuracy'])"
      ],
      "metadata": {
        "colab": {
          "base_uri": "https://localhost:8080/",
          "height": 380
        },
        "id": "x_jnSb9dlwZi",
        "outputId": "04cc5c41-1806-42bd-8be7-51c07d87da8d"
      },
      "execution_count": 27,
      "outputs": [
        {
          "output_type": "error",
          "ename": "ValueError",
          "evalue": "ignored",
          "traceback": [
            "\u001b[0;31m---------------------------------------------------------------------------\u001b[0m",
            "\u001b[0;31mValueError\u001b[0m                                Traceback (most recent call last)",
            "\u001b[0;32m<ipython-input-27-d1a129ae8c50>\u001b[0m in \u001b[0;36m<module>\u001b[0;34m()\u001b[0m\n\u001b[1;32m      7\u001b[0m    \u001b[0mkeras\u001b[0m\u001b[0;34m.\u001b[0m\u001b[0mlayers\u001b[0m\u001b[0;34m.\u001b[0m\u001b[0mFlatten\u001b[0m\u001b[0;34m(\u001b[0m\u001b[0;34m)\u001b[0m\u001b[0;34m,\u001b[0m\u001b[0;34m\u001b[0m\u001b[0;34m\u001b[0m\u001b[0m\n\u001b[1;32m      8\u001b[0m    \u001b[0mkeras\u001b[0m\u001b[0;34m.\u001b[0m\u001b[0mlayers\u001b[0m\u001b[0;34m.\u001b[0m\u001b[0mDense\u001b[0m\u001b[0;34m(\u001b[0m\u001b[0;36m56\u001b[0m\u001b[0;34m,\u001b[0m \u001b[0mactivation\u001b[0m\u001b[0;34m=\u001b[0m\u001b[0;34m'relu'\u001b[0m\u001b[0;34m)\u001b[0m\u001b[0;34m,\u001b[0m\u001b[0;34m\u001b[0m\u001b[0;34m\u001b[0m\u001b[0m\n\u001b[0;32m----> 9\u001b[0;31m    \u001b[0mkeras\u001b[0m\u001b[0;34m.\u001b[0m\u001b[0mlayers\u001b[0m\u001b[0;34m.\u001b[0m\u001b[0mDense\u001b[0m\u001b[0;34m(\u001b[0m\u001b[0;36m7\u001b[0m\u001b[0;34m,\u001b[0m \u001b[0mactivation\u001b[0m\u001b[0;34m=\u001b[0m\u001b[0;34m'softmax'\u001b[0m\u001b[0;34m)\u001b[0m\u001b[0;34m\u001b[0m\u001b[0;34m\u001b[0m\u001b[0m\n\u001b[0m\u001b[1;32m     10\u001b[0m ])\n\u001b[1;32m     11\u001b[0m \u001b[0mcnn_model\u001b[0m\u001b[0;34m.\u001b[0m\u001b[0mcompile\u001b[0m\u001b[0;34m(\u001b[0m\u001b[0moptimizer\u001b[0m\u001b[0;34m=\u001b[0m\u001b[0;34m'adam'\u001b[0m\u001b[0;34m,\u001b[0m \u001b[0mloss\u001b[0m\u001b[0;34m=\u001b[0m\u001b[0;34m'binary_crossentropy'\u001b[0m\u001b[0;34m,\u001b[0m \u001b[0mmetrics\u001b[0m\u001b[0;34m=\u001b[0m\u001b[0;34m[\u001b[0m\u001b[0;34m'accuracy'\u001b[0m\u001b[0;34m]\u001b[0m\u001b[0;34m)\u001b[0m\u001b[0;34m\u001b[0m\u001b[0;34m\u001b[0m\u001b[0m\n",
            "\u001b[0;32m/usr/local/lib/python3.7/dist-packages/tensorflow/python/training/tracking/base.py\u001b[0m in \u001b[0;36m_method_wrapper\u001b[0;34m(self, *args, **kwargs)\u001b[0m\n\u001b[1;32m    627\u001b[0m     \u001b[0mself\u001b[0m\u001b[0;34m.\u001b[0m\u001b[0m_self_setattr_tracking\u001b[0m \u001b[0;34m=\u001b[0m \u001b[0;32mFalse\u001b[0m  \u001b[0;31m# pylint: disable=protected-access\u001b[0m\u001b[0;34m\u001b[0m\u001b[0;34m\u001b[0m\u001b[0m\n\u001b[1;32m    628\u001b[0m     \u001b[0;32mtry\u001b[0m\u001b[0;34m:\u001b[0m\u001b[0;34m\u001b[0m\u001b[0;34m\u001b[0m\u001b[0m\n\u001b[0;32m--> 629\u001b[0;31m       \u001b[0mresult\u001b[0m \u001b[0;34m=\u001b[0m \u001b[0mmethod\u001b[0m\u001b[0;34m(\u001b[0m\u001b[0mself\u001b[0m\u001b[0;34m,\u001b[0m \u001b[0;34m*\u001b[0m\u001b[0margs\u001b[0m\u001b[0;34m,\u001b[0m \u001b[0;34m**\u001b[0m\u001b[0mkwargs\u001b[0m\u001b[0;34m)\u001b[0m\u001b[0;34m\u001b[0m\u001b[0;34m\u001b[0m\u001b[0m\n\u001b[0m\u001b[1;32m    630\u001b[0m     \u001b[0;32mfinally\u001b[0m\u001b[0;34m:\u001b[0m\u001b[0;34m\u001b[0m\u001b[0;34m\u001b[0m\u001b[0m\n\u001b[1;32m    631\u001b[0m       \u001b[0mself\u001b[0m\u001b[0;34m.\u001b[0m\u001b[0m_self_setattr_tracking\u001b[0m \u001b[0;34m=\u001b[0m \u001b[0mprevious_value\u001b[0m  \u001b[0;31m# pylint: disable=protected-access\u001b[0m\u001b[0;34m\u001b[0m\u001b[0;34m\u001b[0m\u001b[0m\n",
            "\u001b[0;32m/usr/local/lib/python3.7/dist-packages/keras/utils/traceback_utils.py\u001b[0m in \u001b[0;36merror_handler\u001b[0;34m(*args, **kwargs)\u001b[0m\n\u001b[1;32m     65\u001b[0m     \u001b[0;32mexcept\u001b[0m \u001b[0mException\u001b[0m \u001b[0;32mas\u001b[0m \u001b[0me\u001b[0m\u001b[0;34m:\u001b[0m  \u001b[0;31m# pylint: disable=broad-except\u001b[0m\u001b[0;34m\u001b[0m\u001b[0;34m\u001b[0m\u001b[0m\n\u001b[1;32m     66\u001b[0m       \u001b[0mfiltered_tb\u001b[0m \u001b[0;34m=\u001b[0m \u001b[0m_process_traceback_frames\u001b[0m\u001b[0;34m(\u001b[0m\u001b[0me\u001b[0m\u001b[0;34m.\u001b[0m\u001b[0m__traceback__\u001b[0m\u001b[0;34m)\u001b[0m\u001b[0;34m\u001b[0m\u001b[0;34m\u001b[0m\u001b[0m\n\u001b[0;32m---> 67\u001b[0;31m       \u001b[0;32mraise\u001b[0m \u001b[0me\u001b[0m\u001b[0;34m.\u001b[0m\u001b[0mwith_traceback\u001b[0m\u001b[0;34m(\u001b[0m\u001b[0mfiltered_tb\u001b[0m\u001b[0;34m)\u001b[0m \u001b[0;32mfrom\u001b[0m \u001b[0;32mNone\u001b[0m\u001b[0;34m\u001b[0m\u001b[0;34m\u001b[0m\u001b[0m\n\u001b[0m\u001b[1;32m     68\u001b[0m     \u001b[0;32mfinally\u001b[0m\u001b[0;34m:\u001b[0m\u001b[0;34m\u001b[0m\u001b[0;34m\u001b[0m\u001b[0m\n\u001b[1;32m     69\u001b[0m       \u001b[0;32mdel\u001b[0m \u001b[0mfiltered_tb\u001b[0m\u001b[0;34m\u001b[0m\u001b[0;34m\u001b[0m\u001b[0m\n",
            "\u001b[0;32m/usr/local/lib/python3.7/dist-packages/keras/engine/input_spec.py\u001b[0m in \u001b[0;36massert_input_compatibility\u001b[0;34m(input_spec, inputs, layer_name)\u001b[0m\n\u001b[1;32m    226\u001b[0m       \u001b[0mndim\u001b[0m \u001b[0;34m=\u001b[0m \u001b[0mx\u001b[0m\u001b[0;34m.\u001b[0m\u001b[0mshape\u001b[0m\u001b[0;34m.\u001b[0m\u001b[0mrank\u001b[0m\u001b[0;34m\u001b[0m\u001b[0;34m\u001b[0m\u001b[0m\n\u001b[1;32m    227\u001b[0m       \u001b[0;32mif\u001b[0m \u001b[0mndim\u001b[0m \u001b[0;32mis\u001b[0m \u001b[0;32mnot\u001b[0m \u001b[0;32mNone\u001b[0m \u001b[0;32mand\u001b[0m \u001b[0mndim\u001b[0m \u001b[0;34m<\u001b[0m \u001b[0mspec\u001b[0m\u001b[0;34m.\u001b[0m\u001b[0mmin_ndim\u001b[0m\u001b[0;34m:\u001b[0m\u001b[0;34m\u001b[0m\u001b[0;34m\u001b[0m\u001b[0m\n\u001b[0;32m--> 228\u001b[0;31m         raise ValueError(f'Input {input_index} of layer \"{layer_name}\" '\n\u001b[0m\u001b[1;32m    229\u001b[0m                          \u001b[0;34m'is incompatible with the layer: '\u001b[0m\u001b[0;34m\u001b[0m\u001b[0;34m\u001b[0m\u001b[0m\n\u001b[1;32m    230\u001b[0m                          \u001b[0;34mf'expected min_ndim={spec.min_ndim}, '\u001b[0m\u001b[0;34m\u001b[0m\u001b[0;34m\u001b[0m\u001b[0m\n",
            "\u001b[0;31mValueError\u001b[0m: Input 0 of layer \"conv2d_16\" is incompatible with the layer: expected min_ndim=4, found ndim=3. Full shape received: (None, 0, 2352)"
          ]
        }
      ]
    },
    {
      "cell_type": "code",
      "source": [
        "cnn_model.fit(train_data, train_label, epochs=40, validation_data=(validation_data, validation_label))"
      ],
      "metadata": {
        "colab": {
          "base_uri": "https://localhost:8080/",
          "height": 710
        },
        "id": "0fM2Iic4lw0M",
        "outputId": "972e3d43-2201-43af-b8ab-87c7fb85810c"
      },
      "execution_count": 26,
      "outputs": [
        {
          "output_type": "stream",
          "name": "stdout",
          "text": [
            "Epoch 1/40\n"
          ]
        },
        {
          "output_type": "error",
          "ename": "ValueError",
          "evalue": "ignored",
          "traceback": [
            "\u001b[0;31m---------------------------------------------------------------------------\u001b[0m",
            "\u001b[0;31mValueError\u001b[0m                                Traceback (most recent call last)",
            "\u001b[0;32m<ipython-input-26-2c765e9b1308>\u001b[0m in \u001b[0;36m<module>\u001b[0;34m()\u001b[0m\n\u001b[0;32m----> 1\u001b[0;31m \u001b[0mcnn_model\u001b[0m\u001b[0;34m.\u001b[0m\u001b[0mfit\u001b[0m\u001b[0;34m(\u001b[0m\u001b[0mtrain_data\u001b[0m\u001b[0;34m,\u001b[0m \u001b[0mtrain_label\u001b[0m\u001b[0;34m,\u001b[0m \u001b[0mepochs\u001b[0m\u001b[0;34m=\u001b[0m\u001b[0;36m40\u001b[0m\u001b[0;34m,\u001b[0m \u001b[0mvalidation_data\u001b[0m\u001b[0;34m=\u001b[0m\u001b[0;34m(\u001b[0m\u001b[0mvalidation_data\u001b[0m\u001b[0;34m,\u001b[0m \u001b[0mvalidation_label\u001b[0m\u001b[0;34m)\u001b[0m\u001b[0;34m)\u001b[0m\u001b[0;34m\u001b[0m\u001b[0;34m\u001b[0m\u001b[0m\n\u001b[0m",
            "\u001b[0;32m/usr/local/lib/python3.7/dist-packages/keras/utils/traceback_utils.py\u001b[0m in \u001b[0;36merror_handler\u001b[0;34m(*args, **kwargs)\u001b[0m\n\u001b[1;32m     65\u001b[0m     \u001b[0;32mexcept\u001b[0m \u001b[0mException\u001b[0m \u001b[0;32mas\u001b[0m \u001b[0me\u001b[0m\u001b[0;34m:\u001b[0m  \u001b[0;31m# pylint: disable=broad-except\u001b[0m\u001b[0;34m\u001b[0m\u001b[0;34m\u001b[0m\u001b[0m\n\u001b[1;32m     66\u001b[0m       \u001b[0mfiltered_tb\u001b[0m \u001b[0;34m=\u001b[0m \u001b[0m_process_traceback_frames\u001b[0m\u001b[0;34m(\u001b[0m\u001b[0me\u001b[0m\u001b[0;34m.\u001b[0m\u001b[0m__traceback__\u001b[0m\u001b[0;34m)\u001b[0m\u001b[0;34m\u001b[0m\u001b[0;34m\u001b[0m\u001b[0m\n\u001b[0;32m---> 67\u001b[0;31m       \u001b[0;32mraise\u001b[0m \u001b[0me\u001b[0m\u001b[0;34m.\u001b[0m\u001b[0mwith_traceback\u001b[0m\u001b[0;34m(\u001b[0m\u001b[0mfiltered_tb\u001b[0m\u001b[0;34m)\u001b[0m \u001b[0;32mfrom\u001b[0m \u001b[0;32mNone\u001b[0m\u001b[0;34m\u001b[0m\u001b[0;34m\u001b[0m\u001b[0m\n\u001b[0m\u001b[1;32m     68\u001b[0m     \u001b[0;32mfinally\u001b[0m\u001b[0;34m:\u001b[0m\u001b[0;34m\u001b[0m\u001b[0;34m\u001b[0m\u001b[0m\n\u001b[1;32m     69\u001b[0m       \u001b[0;32mdel\u001b[0m \u001b[0mfiltered_tb\u001b[0m\u001b[0;34m\u001b[0m\u001b[0;34m\u001b[0m\u001b[0m\n",
            "\u001b[0;32m/usr/local/lib/python3.7/dist-packages/tensorflow/python/framework/func_graph.py\u001b[0m in \u001b[0;36mautograph_handler\u001b[0;34m(*args, **kwargs)\u001b[0m\n\u001b[1;32m   1145\u001b[0m           \u001b[0;32mexcept\u001b[0m \u001b[0mException\u001b[0m \u001b[0;32mas\u001b[0m \u001b[0me\u001b[0m\u001b[0;34m:\u001b[0m  \u001b[0;31m# pylint:disable=broad-except\u001b[0m\u001b[0;34m\u001b[0m\u001b[0;34m\u001b[0m\u001b[0m\n\u001b[1;32m   1146\u001b[0m             \u001b[0;32mif\u001b[0m \u001b[0mhasattr\u001b[0m\u001b[0;34m(\u001b[0m\u001b[0me\u001b[0m\u001b[0;34m,\u001b[0m \u001b[0;34m\"ag_error_metadata\"\u001b[0m\u001b[0;34m)\u001b[0m\u001b[0;34m:\u001b[0m\u001b[0;34m\u001b[0m\u001b[0;34m\u001b[0m\u001b[0m\n\u001b[0;32m-> 1147\u001b[0;31m               \u001b[0;32mraise\u001b[0m \u001b[0me\u001b[0m\u001b[0;34m.\u001b[0m\u001b[0mag_error_metadata\u001b[0m\u001b[0;34m.\u001b[0m\u001b[0mto_exception\u001b[0m\u001b[0;34m(\u001b[0m\u001b[0me\u001b[0m\u001b[0;34m)\u001b[0m\u001b[0;34m\u001b[0m\u001b[0;34m\u001b[0m\u001b[0m\n\u001b[0m\u001b[1;32m   1148\u001b[0m             \u001b[0;32melse\u001b[0m\u001b[0;34m:\u001b[0m\u001b[0;34m\u001b[0m\u001b[0;34m\u001b[0m\u001b[0m\n\u001b[1;32m   1149\u001b[0m               \u001b[0;32mraise\u001b[0m\u001b[0;34m\u001b[0m\u001b[0;34m\u001b[0m\u001b[0m\n",
            "\u001b[0;31mValueError\u001b[0m: in user code:\n\n    File \"/usr/local/lib/python3.7/dist-packages/keras/engine/training.py\", line 1021, in train_function  *\n        return step_function(self, iterator)\n    File \"/usr/local/lib/python3.7/dist-packages/keras/engine/training.py\", line 1010, in step_function  **\n        outputs = model.distribute_strategy.run(run_step, args=(data,))\n    File \"/usr/local/lib/python3.7/dist-packages/keras/engine/training.py\", line 1000, in run_step  **\n        outputs = model.train_step(data)\n    File \"/usr/local/lib/python3.7/dist-packages/keras/engine/training.py\", line 859, in train_step\n        y_pred = self(x, training=True)\n    File \"/usr/local/lib/python3.7/dist-packages/keras/utils/traceback_utils.py\", line 67, in error_handler\n        raise e.with_traceback(filtered_tb) from None\n    File \"/usr/local/lib/python3.7/dist-packages/keras/engine/input_spec.py\", line 228, in assert_input_compatibility\n        raise ValueError(f'Input {input_index} of layer \"{layer_name}\" '\n\n    ValueError: Exception encountered when calling layer \"sequential_8\" (type Sequential).\n    \n    Input 0 of layer \"conv2d_13\" is incompatible with the layer: expected min_ndim=4, found ndim=2. Full shape received: (None, 2352)\n    \n    Call arguments received:\n      • inputs=tf.Tensor(shape=(None, 2352), dtype=int64)\n      • training=True\n      • mask=None\n"
          ]
        }
      ]
    }
  ]
}