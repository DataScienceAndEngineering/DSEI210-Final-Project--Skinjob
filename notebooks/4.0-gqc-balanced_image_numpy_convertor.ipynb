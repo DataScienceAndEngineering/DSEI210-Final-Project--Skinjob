{
  "nbformat": 4,
  "nbformat_minor": 0,
  "metadata": {
    "colab": {
      "name": "balanced_image_numpy_convertor.ipynb",
      "provenance": [],
      "collapsed_sections": []
    },
    "kernelspec": {
      "name": "python3",
      "display_name": "Python 3"
    },
    "language_info": {
      "name": "python"
    }
  },
  "cells": [
    {
      "cell_type": "code",
      "execution_count": 1,
      "metadata": {
        "colab": {
          "base_uri": "https://localhost:8080/"
        },
        "id": "Jn5p1P6Nv3hg",
        "outputId": "39d7c591-62ae-4aa5-a9b5-7260d6ecbcc4"
      },
      "outputs": [
        {
          "output_type": "stream",
          "name": "stdout",
          "text": [
            "/content\n"
          ]
        }
      ],
      "source": [
        "!pwd"
      ]
    },
    {
      "cell_type": "code",
      "source": [
        "import os\n",
        "os.environ['KAGGLE_CONFIG_DIR'] = \"/content\""
      ],
      "metadata": {
        "id": "MkF3QB4ZwuPs"
      },
      "execution_count": 2,
      "outputs": []
    },
    {
      "cell_type": "code",
      "source": [
        "!kaggle datasets download -d surajghuwalewala/ham1000-segmentation-and-classification"
      ],
      "metadata": {
        "colab": {
          "base_uri": "https://localhost:8080/"
        },
        "id": "a8Tuo5Mjw0i-",
        "outputId": "3769559c-f806-4c9e-8b77-5ed760dfd3b9"
      },
      "execution_count": 3,
      "outputs": [
        {
          "output_type": "stream",
          "name": "stdout",
          "text": [
            "Warning: Your Kaggle API key is readable by other users on this system! To fix this, you can run 'chmod 600 /content/kaggle.json'\n",
            "Downloading ham1000-segmentation-and-classification.zip to /content\n",
            "100% 2.59G/2.59G [00:19<00:00, 146MB/s]\n",
            "100% 2.59G/2.59G [00:19<00:00, 142MB/s]\n"
          ]
        }
      ]
    },
    {
      "cell_type": "code",
      "source": [
        "!unzip /content/ham1000-segmentation-and-classification.zip"
      ],
      "metadata": {
        "id": "w_R3_eqIw5C_"
      },
      "execution_count": null,
      "outputs": []
    },
    {
      "cell_type": "code",
      "source": [
        "import os\n",
        "import numpy as np \n",
        "import pandas as pd\n",
        "import tensorflow as tf\n",
        "\n",
        "from PIL import Image\n",
        "\n",
        "from tensorflow import keras\n",
        "from tensorflow.keras import backend as K\n",
        "from tensorflow.keras.layers import Dense, Activation,Dropout,Conv2D, MaxPooling2D,BatchNormalization, Flatten\n",
        "from tensorflow.keras.optimizers import Adam, Adamax\n",
        "from tensorflow.keras.metrics import categorical_crossentropy\n",
        "from tensorflow.keras import regularizers\n",
        "from tensorflow.keras.preprocessing.image import ImageDataGenerator\n",
        "from tensorflow.keras.models import Model, load_model, Sequential\n",
        "import matplotlib.pyplot as plt\n",
        "from matplotlib.pyplot import imshow"
      ],
      "metadata": {
        "id": "bkRPIhB4wvp4"
      },
      "execution_count": 5,
      "outputs": []
    },
    {
      "cell_type": "code",
      "source": [
        "df_labels = pd.read_csv('../content/GroundTruth.csv')\n",
        "df_labels['image'] = df_labels['image'] +'.jpg'\n",
        "\n",
        "labels=['MEL', 'NV', 'BCC', 'AKIEC', 'BKL', 'DF', 'VASC']\n",
        "label_list=[]\n",
        "for i in range (len(df_labels)):\n",
        "    row= list(df_labels.iloc[i])\n",
        "    del row[0]\n",
        "    index=np.argmax(row)\n",
        "    label=labels[index]\n",
        "    label_list.append(label)\n",
        "df_labels['label']= label_list\n",
        "df_labels=df_labels.drop(labels, axis=1)\n",
        "df_labels['label'].value_counts()"
      ],
      "metadata": {
        "colab": {
          "base_uri": "https://localhost:8080/"
        },
        "id": "ediypAGKwcsL",
        "outputId": "83ab80bc-f25a-4fca-e806-e7bb7fcbb9d2"
      },
      "execution_count": 6,
      "outputs": [
        {
          "output_type": "execute_result",
          "data": {
            "text/plain": [
              "NV       6705\n",
              "MEL      1113\n",
              "BKL      1099\n",
              "BCC       514\n",
              "AKIEC     327\n",
              "VASC      142\n",
              "DF        115\n",
              "Name: label, dtype: int64"
            ]
          },
          "metadata": {},
          "execution_count": 6
        }
      ]
    },
    {
      "cell_type": "code",
      "source": [
        "# resample\n",
        "size=250 # set number of samples for each class\n",
        "samples=[]\n",
        "group=df_labels.groupby('label')\n",
        "for label in df_labels['label'].unique():\n",
        "    Lgroup=group.get_group(label)\n",
        "    count=int(Lgroup['label'].value_counts())    \n",
        "    if count>=size:\n",
        "        sample=Lgroup.sample(size, axis=0)        \n",
        "    else:        \n",
        "        sample=Lgroup.sample(frac=1, axis=0)\n",
        "    samples.append(sample) \n",
        "train_df=pd.concat(samples, axis=0).reset_index(drop=True)\n",
        "print (len(train_df))\n",
        "print ('final number of classes: ', len(train_df['label'].unique()))       \n",
        "print (train_df['label'].value_counts())  "
      ],
      "metadata": {
        "colab": {
          "base_uri": "https://localhost:8080/"
        },
        "id": "__txmqeaVFkT",
        "outputId": "f30701bc-c4de-41de-9857-1775212e5123"
      },
      "execution_count": 9,
      "outputs": [
        {
          "output_type": "stream",
          "name": "stdout",
          "text": [
            "1507\n",
            "final number of classes:  7\n",
            "NV       250\n",
            "MEL      250\n",
            "BKL      250\n",
            "AKIEC    250\n",
            "BCC      250\n",
            "VASC     142\n",
            "DF       115\n",
            "Name: label, dtype: int64\n"
          ]
        }
      ]
    },
    {
      "cell_type": "code",
      "source": [
        "sdir=r'../content/images' # main directory where data is stored\n",
        "save_dir=r'./' # output directory where model will be saved\n",
        "subject='cancer' # part of the name of the saved model\n",
        "height=32  # image height\n",
        "width=32   # image width\n",
        "channels=3  # number of coloor channels\n",
        "batch_size=40  # model batch size for training and evaluation\n",
        "img_shape=(height, width, channels)\n",
        "img_size=(height, width)\n",
        "\n",
        "def scalar(img): # unused for efficientnet model\n",
        "    return img/255  # scale pixel between -1 and +1\n",
        "gen=ImageDataGenerator() # no scaling of pixels is need for efficientnet\n",
        "\n",
        "df_gen=gen.flow_from_dataframe( train_df, sdir, x_col='image', y_col='label', target_size=img_size, class_mode='categorical',\n",
        "                                    color_mode='rgb', shuffle=True, batch_size=batch_size)"
      ],
      "metadata": {
        "colab": {
          "base_uri": "https://localhost:8080/"
        },
        "id": "qDzZxZWmweiD",
        "outputId": "5ac78789-e67b-4062-ab37-2052ce496fcd"
      },
      "execution_count": 10,
      "outputs": [
        {
          "output_type": "stream",
          "name": "stdout",
          "text": [
            "Found 1507 validated image filenames belonging to 7 classes.\n"
          ]
        }
      ]
    },
    {
      "cell_type": "code",
      "source": [
        "images, labels = next(df_gen)\n",
        "for x in range(37):\n",
        "  temp_images, temp_labels = next(df_gen)\n",
        "  images = np.concatenate((images, temp_images), axis=0)\n",
        "  labels = np.concatenate((labels, temp_labels), axis=0)\n",
        "  print(x)"
      ],
      "metadata": {
        "id": "fMLMrCZhx-bk",
        "colab": {
          "base_uri": "https://localhost:8080/"
        },
        "outputId": "52911d17-ffc0-49c7-a3cd-fe613201b960"
      },
      "execution_count": 11,
      "outputs": [
        {
          "output_type": "stream",
          "name": "stdout",
          "text": [
            "0\n",
            "1\n",
            "2\n",
            "3\n",
            "4\n",
            "5\n",
            "6\n",
            "7\n",
            "8\n",
            "9\n",
            "10\n",
            "11\n",
            "12\n",
            "13\n",
            "14\n",
            "15\n",
            "16\n",
            "17\n",
            "18\n",
            "19\n",
            "20\n",
            "21\n",
            "22\n",
            "23\n",
            "24\n",
            "25\n",
            "26\n",
            "27\n",
            "28\n",
            "29\n",
            "30\n",
            "31\n",
            "32\n",
            "33\n",
            "34\n",
            "35\n",
            "36\n"
          ]
        }
      ]
    },
    {
      "cell_type": "code",
      "source": [
        "images.shape"
      ],
      "metadata": {
        "colab": {
          "base_uri": "https://localhost:8080/"
        },
        "id": "teKiAjn4zYD3",
        "outputId": "2c9d1cd1-9be3-4c3a-c051-60ac8a291652"
      },
      "execution_count": 12,
      "outputs": [
        {
          "output_type": "execute_result",
          "data": {
            "text/plain": [
              "(1507, 32, 32, 3)"
            ]
          },
          "metadata": {},
          "execution_count": 12
        }
      ]
    },
    {
      "cell_type": "code",
      "source": [
        "labels.shape"
      ],
      "metadata": {
        "colab": {
          "base_uri": "https://localhost:8080/"
        },
        "id": "5S7m6nB0z7ns",
        "outputId": "445ca27d-352c-4bff-d9c2-b1b48b1255b8"
      },
      "execution_count": 13,
      "outputs": [
        {
          "output_type": "execute_result",
          "data": {
            "text/plain": [
              "(1507, 7)"
            ]
          },
          "metadata": {},
          "execution_count": 13
        }
      ]
    },
    {
      "cell_type": "code",
      "source": [
        "np.save('balanced_images32_32', images)"
      ],
      "metadata": {
        "id": "Ey9vYDc3z_2G"
      },
      "execution_count": 14,
      "outputs": []
    },
    {
      "cell_type": "code",
      "source": [
        "np.save('balanced_labels32_32', labels)"
      ],
      "metadata": {
        "id": "5BfFe-wn0NBN"
      },
      "execution_count": 15,
      "outputs": []
    }
  ]
}