{
  "nbformat": 4,
  "nbformat_minor": 0,
  "metadata": {
    "colab": {
      "name": "Linear_and_Logistic.ipynb",
      "provenance": [],
      "collapsed_sections": []
    },
    "kernelspec": {
      "name": "python3",
      "display_name": "Python 3"
    },
    "language_info": {
      "name": "python"
    }
  },
  "cells": [
    {
      "cell_type": "code",
      "execution_count": 1,
      "metadata": {
        "colab": {
          "base_uri": "https://localhost:8080/"
        },
        "id": "RJTm514MP8GI",
        "outputId": "a89673c0-f1b2-40ba-8c82-68129fda8cff"
      },
      "outputs": [
        {
          "output_type": "stream",
          "name": "stdout",
          "text": [
            "/content\n"
          ]
        }
      ],
      "source": [
        "!pwd"
      ]
    },
    {
      "cell_type": "code",
      "source": [
        "import os\n",
        "os.environ['KAGGLE_CONFIG_DIR'] = \"/content\""
      ],
      "metadata": {
        "id": "hw_jLMUDQNnm"
      },
      "execution_count": 2,
      "outputs": []
    },
    {
      "cell_type": "code",
      "source": [
        "!kaggle datasets download -d surajghuwalewala/ham1000-segmentation-and-classification"
      ],
      "metadata": {
        "colab": {
          "base_uri": "https://localhost:8080/"
        },
        "id": "AX34-yzNQO2D",
        "outputId": "a9cc7e11-2e52-47cc-ebc0-8716a188581f"
      },
      "execution_count": 3,
      "outputs": [
        {
          "output_type": "stream",
          "name": "stdout",
          "text": [
            "Warning: Your Kaggle API key is readable by other users on this system! To fix this, you can run 'chmod 600 /content/kaggle.json'\n",
            "Downloading ham1000-segmentation-and-classification.zip to /content\n",
            "100% 2.58G/2.59G [00:25<00:00, 204MB/s]\n",
            "100% 2.59G/2.59G [00:25<00:00, 111MB/s]\n"
          ]
        }
      ]
    },
    {
      "cell_type": "code",
      "source": [
        "!unzip /content/ham1000-segmentation-and-classification.zip"
      ],
      "metadata": {
        "id": "uLZITHNTQQNY"
      },
      "execution_count": null,
      "outputs": []
    },
    {
      "cell_type": "code",
      "source": [
        "import numpy as np \n",
        "import pandas as pd\n",
        "import tensorflow as tf\n",
        "from tensorflow import keras\n",
        "from tensorflow.keras import backend as K\n",
        "from tensorflow.keras.layers import Dense, Activation,Dropout,Conv2D, MaxPooling2D,BatchNormalization, Flatten\n",
        "from tensorflow.keras.optimizers import Adam, Adamax\n",
        "from tensorflow.keras.metrics import categorical_crossentropy\n",
        "from tensorflow.keras import regularizers\n",
        "from tensorflow.keras.preprocessing.image import ImageDataGenerator\n",
        "from tensorflow.keras.models import Model, load_model, Sequential\n",
        "import matplotlib.pyplot as plt\n",
        "from matplotlib.pyplot import imshow"
      ],
      "metadata": {
        "id": "QalFRfHvQRvt"
      },
      "execution_count": 5,
      "outputs": []
    },
    {
      "cell_type": "code",
      "source": [
        "df_labels = pd.read_csv('../content/GroundTruth.csv')\n",
        "df_labels['image'] = df_labels['image'] +'.jpg'\n",
        "\n",
        "labels=['MEL', 'NV', 'BCC', 'AKIEC', 'BKL', 'DF', 'VASC']\n",
        "label_list=[]\n",
        "for i in range (len(df_labels)):\n",
        "    row= list(df_labels.iloc[i])\n",
        "    del row[0]\n",
        "    index=np.argmax(row)\n",
        "    label=labels[index]\n",
        "    label_list.append(label)\n",
        "df_labels['label']= label_list\n",
        "df_labels=df_labels.drop(labels, axis=1)\n",
        "df_labels['label'].value_counts()"
      ],
      "metadata": {
        "colab": {
          "base_uri": "https://localhost:8080/"
        },
        "id": "oXtWfpp0QT-N",
        "outputId": "dd513178-3b79-48d9-a237-9544096d38d4"
      },
      "execution_count": 6,
      "outputs": [
        {
          "output_type": "execute_result",
          "data": {
            "text/plain": [
              "NV       6705\n",
              "MEL      1113\n",
              "BKL      1099\n",
              "BCC       514\n",
              "AKIEC     327\n",
              "VASC      142\n",
              "DF        115\n",
              "Name: label, dtype: int64"
            ]
          },
          "metadata": {},
          "execution_count": 6
        }
      ]
    },
    {
      "cell_type": "code",
      "source": [
        "from sklearn.model_selection import train_test_split\n",
        "\n",
        "tain_size=0.7\n",
        "valid_size = 0.1\n",
        "test_size = 0.2\n",
        "valid_test_split = valid_size / test_size\n",
        "\n",
        "train_df, valid_test_df = train_test_split(df_labels, train_size=tain_size, shuffle=True, random_state=42)\n",
        "valid_df, test_df = train_test_split(valid_test_df, train_size=valid_test_split, shuffle=True, random_state=42)\n",
        "\n",
        "print(' train_df length: ', len(train_df), '  test_df length: ', len(test_df), '  valid_df length: ', len(valid_df))\n",
        "print (train_df.head())\n",
        "print (train_df['label'].value_counts())"
      ],
      "metadata": {
        "colab": {
          "base_uri": "https://localhost:8080/"
        },
        "id": "aqFGRWxeQcDB",
        "outputId": "0ba300fa-b124-4542-a7b6-8e04848505ef"
      },
      "execution_count": 7,
      "outputs": [
        {
          "output_type": "stream",
          "name": "stdout",
          "text": [
            " train_df length:  7010   test_df length:  1503   valid_df length:  1502\n",
            "                 image label\n",
            "2399  ISIC_0026705.jpg    NV\n",
            "8246  ISIC_0032552.jpg   MEL\n",
            "8052  ISIC_0032358.jpg   BKL\n",
            "5840  ISIC_0030146.jpg    NV\n",
            "3540  ISIC_0027846.jpg   BCC\n",
            "NV       4686\n",
            "BKL       784\n",
            "MEL       758\n",
            "BCC       362\n",
            "AKIEC     235\n",
            "VASC      100\n",
            "DF         85\n",
            "Name: label, dtype: int64\n"
          ]
        }
      ]
    },
    {
      "cell_type": "code",
      "source": [
        "sdir=r'../content/images' # main directory where data is stored\n",
        "save_dir=r'./' # output directory where model will be saved\n",
        "subject='cancer' # part of the name of the saved model\n",
        "height=64  # image height\n",
        "width=64   # image width\n",
        "channels=3  # number of coloor channels\n",
        "batch_size=20  # model batch size for training and evaluation\n",
        "img_shape=(height, width, channels)\n",
        "img_size=(height, width)\n",
        "\n",
        "def scalar(img): # unused for efficientnet model\n",
        "    return img/127.5-1  # scale pixel between -1 and +1\n",
        "gen=ImageDataGenerator() # no scaling of pixels is need for efficientnet\n",
        "\n",
        "train_gen=gen.flow_from_dataframe( train_df, sdir, x_col='image', y_col='label', target_size=img_size, class_mode='categorical',\n",
        "                                    color_mode='rgb', shuffle=True, batch_size=batch_size)"
      ],
      "metadata": {
        "colab": {
          "base_uri": "https://localhost:8080/"
        },
        "id": "mXsyj7cYQiF0",
        "outputId": "22f84485-0871-475f-cc90-af109b97ae44"
      },
      "execution_count": 13,
      "outputs": [
        {
          "output_type": "stream",
          "name": "stdout",
          "text": [
            "Found 7010 validated image filenames belonging to 7 classes.\n"
          ]
        }
      ]
    },
    {
      "cell_type": "code",
      "source": [
        "valid_gen=gen.flow_from_dataframe(valid_df, sdir, x_col='image', y_col='label', target_size=img_size, class_mode='categorical',\n",
        "                                    color_mode='rgb', shuffle=True, batch_size=batch_size)"
      ],
      "metadata": {
        "colab": {
          "base_uri": "https://localhost:8080/"
        },
        "id": "7_E0AxetUwsC",
        "outputId": "ef3df32d-2170-49cc-d5b7-5bc8b620f1bc"
      },
      "execution_count": 15,
      "outputs": [
        {
          "output_type": "stream",
          "name": "stdout",
          "text": [
            "Found 1502 validated image filenames belonging to 7 classes.\n"
          ]
        }
      ]
    },
    {
      "cell_type": "code",
      "source": [
        "linear_model = tf.keras.Sequential([    \n",
        "   keras.layers.Flatten(input_shape=(height, width, channels)),                                                                 \n",
        "   keras.layers.Dense(7)                                 \n",
        "])\n",
        "linear_model.compile(optimizer='adam', loss='binary_crossentropy', metrics=['accuracy'])\n",
        "linear_model.fit(train_gen, epochs=5,  validation_data=valid_gen)"
      ],
      "metadata": {
        "colab": {
          "base_uri": "https://localhost:8080/",
          "height": 397
        },
        "id": "zfvlNgKgQnYq",
        "outputId": "f8301e7d-465f-401b-9eae-a2901c85a7d1"
      },
      "execution_count": 18,
      "outputs": [
        {
          "output_type": "stream",
          "name": "stdout",
          "text": [
            "Epoch 1/5\n",
            "351/351 [==============================] - 90s 255ms/step - loss: 4.0899 - accuracy: 0.1116 - val_loss: 3.8992 - val_accuracy: 0.1105\n"
          ]
        },
        {
          "output_type": "error",
          "ename": "KeyboardInterrupt",
          "evalue": "ignored",
          "traceback": [
            "\u001b[0;31m---------------------------------------------------------------------------\u001b[0m",
            "\u001b[0;31mKeyboardInterrupt\u001b[0m                         Traceback (most recent call last)",
            "\u001b[0;32m<ipython-input-18-e7dc5efd7ed8>\u001b[0m in \u001b[0;36m<module>\u001b[0;34m()\u001b[0m\n\u001b[1;32m      4\u001b[0m ])\n\u001b[1;32m      5\u001b[0m \u001b[0mlinear_model\u001b[0m\u001b[0;34m.\u001b[0m\u001b[0mcompile\u001b[0m\u001b[0;34m(\u001b[0m\u001b[0moptimizer\u001b[0m\u001b[0;34m=\u001b[0m\u001b[0;34m'adam'\u001b[0m\u001b[0;34m,\u001b[0m \u001b[0mloss\u001b[0m\u001b[0;34m=\u001b[0m\u001b[0;34m'binary_crossentropy'\u001b[0m\u001b[0;34m,\u001b[0m \u001b[0mmetrics\u001b[0m\u001b[0;34m=\u001b[0m\u001b[0;34m[\u001b[0m\u001b[0;34m'accuracy'\u001b[0m\u001b[0;34m]\u001b[0m\u001b[0;34m)\u001b[0m\u001b[0;34m\u001b[0m\u001b[0;34m\u001b[0m\u001b[0m\n\u001b[0;32m----> 6\u001b[0;31m \u001b[0mlinear_model\u001b[0m\u001b[0;34m.\u001b[0m\u001b[0mfit\u001b[0m\u001b[0;34m(\u001b[0m\u001b[0mtrain_gen\u001b[0m\u001b[0;34m,\u001b[0m \u001b[0mepochs\u001b[0m\u001b[0;34m=\u001b[0m\u001b[0;36m5\u001b[0m\u001b[0;34m,\u001b[0m  \u001b[0mvalidation_data\u001b[0m\u001b[0;34m=\u001b[0m\u001b[0mvalid_gen\u001b[0m\u001b[0;34m)\u001b[0m\u001b[0;34m\u001b[0m\u001b[0;34m\u001b[0m\u001b[0m\n\u001b[0m",
            "\u001b[0;32m/usr/local/lib/python3.7/dist-packages/keras/utils/traceback_utils.py\u001b[0m in \u001b[0;36merror_handler\u001b[0;34m(*args, **kwargs)\u001b[0m\n\u001b[1;32m     62\u001b[0m     \u001b[0mfiltered_tb\u001b[0m \u001b[0;34m=\u001b[0m \u001b[0;32mNone\u001b[0m\u001b[0;34m\u001b[0m\u001b[0;34m\u001b[0m\u001b[0m\n\u001b[1;32m     63\u001b[0m     \u001b[0;32mtry\u001b[0m\u001b[0;34m:\u001b[0m\u001b[0;34m\u001b[0m\u001b[0;34m\u001b[0m\u001b[0m\n\u001b[0;32m---> 64\u001b[0;31m       \u001b[0;32mreturn\u001b[0m \u001b[0mfn\u001b[0m\u001b[0;34m(\u001b[0m\u001b[0;34m*\u001b[0m\u001b[0margs\u001b[0m\u001b[0;34m,\u001b[0m \u001b[0;34m**\u001b[0m\u001b[0mkwargs\u001b[0m\u001b[0;34m)\u001b[0m\u001b[0;34m\u001b[0m\u001b[0;34m\u001b[0m\u001b[0m\n\u001b[0m\u001b[1;32m     65\u001b[0m     \u001b[0;32mexcept\u001b[0m \u001b[0mException\u001b[0m \u001b[0;32mas\u001b[0m \u001b[0me\u001b[0m\u001b[0;34m:\u001b[0m  \u001b[0;31m# pylint: disable=broad-except\u001b[0m\u001b[0;34m\u001b[0m\u001b[0;34m\u001b[0m\u001b[0m\n\u001b[1;32m     66\u001b[0m       \u001b[0mfiltered_tb\u001b[0m \u001b[0;34m=\u001b[0m \u001b[0m_process_traceback_frames\u001b[0m\u001b[0;34m(\u001b[0m\u001b[0me\u001b[0m\u001b[0;34m.\u001b[0m\u001b[0m__traceback__\u001b[0m\u001b[0;34m)\u001b[0m\u001b[0;34m\u001b[0m\u001b[0;34m\u001b[0m\u001b[0m\n",
            "\u001b[0;32m/usr/local/lib/python3.7/dist-packages/keras/engine/training.py\u001b[0m in \u001b[0;36mfit\u001b[0;34m(self, x, y, batch_size, epochs, verbose, callbacks, validation_split, validation_data, shuffle, class_weight, sample_weight, initial_epoch, steps_per_epoch, validation_steps, validation_batch_size, validation_freq, max_queue_size, workers, use_multiprocessing)\u001b[0m\n\u001b[1;32m   1371\u001b[0m       \u001b[0mlogs\u001b[0m \u001b[0;34m=\u001b[0m \u001b[0;32mNone\u001b[0m\u001b[0;34m\u001b[0m\u001b[0;34m\u001b[0m\u001b[0m\n\u001b[1;32m   1372\u001b[0m       \u001b[0;32mfor\u001b[0m \u001b[0mepoch\u001b[0m\u001b[0;34m,\u001b[0m \u001b[0miterator\u001b[0m \u001b[0;32min\u001b[0m \u001b[0mdata_handler\u001b[0m\u001b[0;34m.\u001b[0m\u001b[0menumerate_epochs\u001b[0m\u001b[0;34m(\u001b[0m\u001b[0;34m)\u001b[0m\u001b[0;34m:\u001b[0m\u001b[0;34m\u001b[0m\u001b[0;34m\u001b[0m\u001b[0m\n\u001b[0;32m-> 1373\u001b[0;31m         \u001b[0mself\u001b[0m\u001b[0;34m.\u001b[0m\u001b[0mreset_metrics\u001b[0m\u001b[0;34m(\u001b[0m\u001b[0;34m)\u001b[0m\u001b[0;34m\u001b[0m\u001b[0;34m\u001b[0m\u001b[0m\n\u001b[0m\u001b[1;32m   1374\u001b[0m         \u001b[0mcallbacks\u001b[0m\u001b[0;34m.\u001b[0m\u001b[0mon_epoch_begin\u001b[0m\u001b[0;34m(\u001b[0m\u001b[0mepoch\u001b[0m\u001b[0;34m)\u001b[0m\u001b[0;34m\u001b[0m\u001b[0;34m\u001b[0m\u001b[0m\n\u001b[1;32m   1375\u001b[0m         \u001b[0;32mwith\u001b[0m \u001b[0mdata_handler\u001b[0m\u001b[0;34m.\u001b[0m\u001b[0mcatch_stop_iteration\u001b[0m\u001b[0;34m(\u001b[0m\u001b[0;34m)\u001b[0m\u001b[0;34m:\u001b[0m\u001b[0;34m\u001b[0m\u001b[0;34m\u001b[0m\u001b[0m\n",
            "\u001b[0;31mKeyboardInterrupt\u001b[0m: "
          ]
        }
      ]
    },
    {
      "cell_type": "code",
      "source": [
        "linear_model = tf.keras.Sequential([    \n",
        "   keras.layers.Flatten(input_shape=(height, width, channels)),                                                                 \n",
        "   keras.layers.Dense(7, activation = 'sigmoid')                                 \n",
        "])\n",
        "linear_model.compile(optimizer='adam', loss='binary_crossentropy', metrics=['accuracy'])\n",
        "linear_model.fit(train_gen, epochs=batch_size,  validation_data=valid_gen)"
      ],
      "metadata": {
        "colab": {
          "base_uri": "https://localhost:8080/"
        },
        "id": "O-UXP1YCVO9T",
        "outputId": "79a7fb76-006b-4b98-acee-b2c8e1a9124a"
      },
      "execution_count": 17,
      "outputs": [
        {
          "output_type": "stream",
          "name": "stdout",
          "text": [
            "Epoch 1/20\n",
            "351/351 [==============================] - 96s 273ms/step - loss: 69.6839 - accuracy: 0.5903 - val_loss: 47.5323 - val_accuracy: 0.5539\n",
            "Epoch 2/20\n",
            "351/351 [==============================] - 95s 270ms/step - loss: 47.3393 - accuracy: 0.5896 - val_loss: 45.4955 - val_accuracy: 0.4687\n",
            "Epoch 3/20\n",
            "351/351 [==============================] - 89s 253ms/step - loss: 43.4110 - accuracy: 0.6124 - val_loss: 77.8048 - val_accuracy: 0.3802\n",
            "Epoch 4/20\n",
            "351/351 [==============================] - 94s 268ms/step - loss: 44.1109 - accuracy: 0.6124 - val_loss: 49.5286 - val_accuracy: 0.6718\n",
            "Epoch 5/20\n",
            "351/351 [==============================] - 91s 261ms/step - loss: 42.2969 - accuracy: 0.6148 - val_loss: 49.2782 - val_accuracy: 0.4667\n",
            "Epoch 6/20\n",
            "351/351 [==============================] - 95s 270ms/step - loss: 45.1252 - accuracy: 0.6023 - val_loss: 40.8663 - val_accuracy: 0.6698\n",
            "Epoch 7/20\n",
            "351/351 [==============================] - 90s 256ms/step - loss: 46.0044 - accuracy: 0.6208 - val_loss: 35.8065 - val_accuracy: 0.6711\n",
            "Epoch 8/20\n",
            "351/351 [==============================] - 95s 270ms/step - loss: 40.8357 - accuracy: 0.6180 - val_loss: 57.2649 - val_accuracy: 0.5672\n",
            "Epoch 9/20\n",
            "351/351 [==============================] - 95s 270ms/step - loss: 39.2544 - accuracy: 0.6274 - val_loss: 45.5052 - val_accuracy: 0.6185\n",
            "Epoch 10/20\n",
            "351/351 [==============================] - 95s 270ms/step - loss: 44.6372 - accuracy: 0.6164 - val_loss: 41.2472 - val_accuracy: 0.6744\n",
            "Epoch 11/20\n",
            "351/351 [==============================] - 94s 269ms/step - loss: 35.8994 - accuracy: 0.6268 - val_loss: 44.3623 - val_accuracy: 0.6764\n",
            "Epoch 12/20\n",
            "351/351 [==============================] - 95s 270ms/step - loss: 40.5857 - accuracy: 0.6197 - val_loss: 63.6717 - val_accuracy: 0.6724\n",
            "Epoch 13/20\n",
            "351/351 [==============================] - 89s 254ms/step - loss: 42.2095 - accuracy: 0.6271 - val_loss: 25.8328 - val_accuracy: 0.5746\n",
            "Epoch 14/20\n",
            "351/351 [==============================] - 89s 255ms/step - loss: 44.2573 - accuracy: 0.6298 - val_loss: 42.3910 - val_accuracy: 0.5433\n",
            "Epoch 15/20\n",
            "351/351 [==============================] - 95s 270ms/step - loss: 35.7850 - accuracy: 0.6417 - val_loss: 21.1879 - val_accuracy: 0.6851\n",
            "Epoch 16/20\n",
            "351/351 [==============================] - 89s 255ms/step - loss: 43.3940 - accuracy: 0.6278 - val_loss: 18.6518 - val_accuracy: 0.6032\n",
            "Epoch 17/20\n",
            "351/351 [==============================] - 89s 255ms/step - loss: 42.2872 - accuracy: 0.6284 - val_loss: 39.8841 - val_accuracy: 0.6784\n",
            "Epoch 18/20\n",
            "351/351 [==============================] - 94s 269ms/step - loss: 46.0290 - accuracy: 0.6328 - val_loss: 24.2679 - val_accuracy: 0.6798\n",
            "Epoch 19/20\n",
            "351/351 [==============================] - 94s 268ms/step - loss: 35.3795 - accuracy: 0.6320 - val_loss: 56.3425 - val_accuracy: 0.6278\n",
            "Epoch 20/20\n",
            "351/351 [==============================] - 89s 255ms/step - loss: 39.3677 - accuracy: 0.6437 - val_loss: 66.5295 - val_accuracy: 0.6824\n"
          ]
        },
        {
          "output_type": "execute_result",
          "data": {
            "text/plain": [
              "<keras.callbacks.History at 0x7fea3df791d0>"
            ]
          },
          "metadata": {},
          "execution_count": 17
        }
      ]
    }
  ]
}